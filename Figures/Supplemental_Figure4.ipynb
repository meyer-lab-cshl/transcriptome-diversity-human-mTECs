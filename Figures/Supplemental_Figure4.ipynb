{
 "cells": [
  {
   "cell_type": "code",
   "execution_count": null,
   "id": "027e8576",
   "metadata": {},
   "outputs": [],
   "source": [
    "import pandas as pd\n",
    "import numpy as np\n",
    "from matplotlib import pyplot as plt\n",
    "import seaborn as sns\n",
    "import warnings\n",
    "from scipy import stats\n",
    "import statsmodels.api as sm\n",
    "from matplotlib_venn import venn3"
   ]
  },
  {
   "cell_type": "code",
   "execution_count": null,
   "id": "21cad742",
   "metadata": {},
   "outputs": [],
   "source": [
    "df_sleuth=pd.read_csv('common_data/Sleuth_results_all.txt')\n",
    "df_abundance=pd.read_pickle('common_data/Kallisto_abundance.pkl')\n",
    "df_abundance=df_abundance.drop(columns='length')"
   ]
  },
  {
   "cell_type": "code",
   "execution_count": null,
   "id": "f38a5bc8",
   "metadata": {},
   "outputs": [],
   "source": [
    "motifs=['THAP11','NRF1','E2F3','SP1','KLF14','SP5','MAZ','ELK4','SP2','KLF9', 'ELK1', 'ELF1','KLF1','KLF6','KLF5','TAL1','NANOG','NF1','LHX3','ASCL2','PRDM10','NFKB1', 'NFKB2','NF1']"
   ]
  },
  {
   "cell_type": "code",
   "execution_count": null,
   "id": "8eed36ac",
   "metadata": {},
   "outputs": [],
   "source": [
    "for i,y in enumerate(motifs): \n",
    "    transcript=df_sleuth[df_sleuth.ext_gene.isin([y])].target_id\n",
    "    expression=df_abundance.loc[transcript].sum()\n",
    "    if i==0: \n",
    "        exp=expression\n",
    "    else:\n",
    "        exp=np.vstack((exp,expression))\n",
    "df=pd.DataFrame(exp,index=motifs,columns=expression.index)"
   ]
  },
  {
   "cell_type": "code",
   "execution_count": null,
   "id": "fbaf96cc",
   "metadata": {},
   "outputs": [
    {
     "data": {
      "image/png": "[encoded data removed]",
      "text/plain": [
       "<Figure size 360x720 with 2 Axes>"
      ]
     },
     "metadata": {
      "needs_background": "light"
     },
     "output_type": "display_data"
    }
   ],
   "source": [
    "plt.figure(figsize=(5,10))\n",
    "sns.heatmap(np.log2(df[['pt214_hi_tpm','pt221_hi_tpm','pt226_hi_tpm','pt214_lo_tpm','pt221_lo_tpm','pt226_lo_tpm']]+0.01),\n",
    "            robust=1,vmin=0,vmax=9,square=1)\n",
    "plt.xticks(np.arange(df.shape[1])+0.5,['214_Hi','221_Hi','226_Hi','214_Lo','221_Lo','226_Lo'])\n",
    "plt.show()\n",
    "plt.close()"
   ]
  },
  {
   "cell_type": "code",
   "execution_count": null,
   "id": "6cedda2d",
   "metadata": {},
   "outputs": [
    {
     "data": {
      "text/plain": [
       "(        pt214_hi_tpm  pt221_hi_tpm  pt226_hi_tpm  pt214_lo_tpm  pt221_lo_tpm  \\\n",
       " THAP11      3.766171      4.258760      4.097864      4.042802      4.207299   \n",
       " NRF1        3.690137      3.477558      3.548190      4.121732      3.963625   \n",
       " E2F3        3.119592      2.759320      2.773992      2.619394      2.855105   \n",
       " SP1         5.681255      5.303483      5.100319      5.749910      5.324131   \n",
       " KLF14      -4.946563     -5.090034     -4.742385     -6.643856     -6.643856   \n",
       " SP5         0.499250      2.102023      1.693164     -0.757113      1.844775   \n",
       " MAZ         6.663638      7.249538      7.147101      6.855596      7.333348   \n",
       " ELK4        4.966375      4.349866      4.325736      4.433476      4.052676   \n",
       " SP2         4.465420      4.429647      4.247577      4.666771      4.432955   \n",
       " KLF9        5.118696      4.416664      4.238183      5.596837      5.623928   \n",
       " ELK1        4.591067      4.799719      4.754453      4.528420      4.791472   \n",
       " ELF1        6.123116      5.904861      5.820996      5.873326      5.669488   \n",
       " KLF1       -2.110436     -1.986142     -1.996622      2.893582      0.527391   \n",
       " KLF6        8.682962      8.386335      8.313413      8.483068      8.337034   \n",
       " KLF5        8.633167      7.726644      8.453075      8.912270      8.328952   \n",
       " TAL1        1.124602     -1.080229     -0.694008      1.276616     -0.762051   \n",
       " NANOG       0.185943     -0.078486     -0.359618     -0.153748      0.131892   \n",
       " NF1         5.641930      5.239608      5.093958      5.734353      5.278072   \n",
       " LHX3       -0.533378     -0.623045     -0.223845     -0.401942      1.508488   \n",
       " ASCL2       1.397064      1.040191      0.905798      2.306093      1.384138   \n",
       " PRDM10      3.900702      2.721810      2.997754      4.406050      3.840901   \n",
       " NFKB1       7.388322      6.069457      6.736633      7.067431      6.505616   \n",
       " NFKB2       9.419344      9.269898      9.525622      9.367211      9.150281   \n",
       " NF1         5.641930      5.239608      5.093958      5.734353      5.278072   \n",
       " \n",
       "         pt226_lo_tpm  \n",
       " THAP11      3.832252  \n",
       " NRF1        3.904615  \n",
       " E2F3        2.479224  \n",
       " SP1         5.441130  \n",
       " KLF14      -6.643856  \n",
       " SP5         0.933240  \n",
       " MAZ         6.890289  \n",
       " ELK4        4.138584  \n",
       " SP2         4.661705  \n",
       " KLF9        5.486727  \n",
       " ELK1        4.486345  \n",
       " ELF1        5.489144  \n",
       " KLF1       -0.231017  \n",
       " KLF6        8.326984  \n",
       " KLF5        9.229993  \n",
       " TAL1       -0.015395  \n",
       " NANOG       0.470938  \n",
       " NF1         5.557839  \n",
       " LHX3       -0.496415  \n",
       " ASCL2       0.616640  \n",
       " PRDM10      4.207228  \n",
       " NFKB1       6.839431  \n",
       " NFKB2       9.309297  \n",
       " NF1         5.557839  ,)"
      ]
     },
     "execution_count": 6,
     "metadata": {},
     "output_type": "execute_result"
    }
   ],
   "source": [
    "np.log2(df[['pt214_hi_tpm','pt221_hi_tpm','pt226_hi_tpm','pt214_lo_tpm','pt221_lo_tpm','pt226_lo_tpm']]+0.01),\n",
    "           "
   ]
  },
  {
   "cell_type": "code",
   "execution_count": null,
   "id": "c0e0d93a",
   "metadata": {},
   "outputs": [],
   "source": []
  }
 ],
 "metadata": {
  "kernelspec": {
   "display_name": "Python 3 (ipykernel)",
   "language": "python",
   "name": "python3"
  },
  "language_info": {
   "codemirror_mode": {
    "name": "ipython",
    "version": 3
   },
   "file_extension": ".py",
   "mimetype": "text/x-python",
   "name": "python",
   "nbconvert_exporter": "python",
   "pygments_lexer": "ipython3",
   "version": "3.10.4"
  }
 },
 "nbformat": 4,
 "nbformat_minor": 5
}
