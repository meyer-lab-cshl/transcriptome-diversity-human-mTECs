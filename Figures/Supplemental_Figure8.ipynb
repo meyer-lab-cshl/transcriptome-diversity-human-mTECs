{
 "cells": [
  {
   "cell_type": "code",
   "execution_count": 7,
   "id": "4977e30e",
   "metadata": {},
   "outputs": [],
   "source": [
    "import pandas as pd\n",
    "import numpy as np\n",
    "from matplotlib import pyplot as plt\n",
    "import seaborn as sns\n",
    "import warnings\n",
    "from scipy import stats\n",
    "import statsmodels.api as sm\n",
    "from matplotlib_venn import venn3"
   ]
  },
  {
   "cell_type": "code",
   "execution_count": 8,
   "id": "d0c3a667",
   "metadata": {},
   "outputs": [],
   "source": [
    "SE=pd.read_csv('Figure5_data/SE.MATS.JCEC.txt',sep='\\t')\n",
    "RI=pd.read_csv('Figure5_data/RI.MATS.JCEC.txt',sep='\\t')\n",
    "MXE=pd.read_csv('Figure5_data/MXE.MATS.JCEC.txt',sep='\\t')\n",
    "A5SS=pd.read_csv('Figure5_data/A5SS.MATS.JCEC.txt',sep='\\t')\n",
    "A3SS=pd.read_csv('Figure5_data/A3SS.MATS.JCEC.txt',sep='\\t')\n",
    "\n",
    "SE=SE[(SE.FDR.astype(float)<0.05) & (abs(SE.IncLevelDifference)>0.1)]\n",
    "RI=RI[(RI.FDR.astype(float)<0.05) & (abs(RI.IncLevelDifference)>0.1)]\n",
    "MXE=MXE[(MXE.FDR.astype(float)<0.05) & (abs(MXE.IncLevelDifference)>0.1)]\n",
    "A5SS=A5SS[(A5SS.FDR.astype(float)<0.05) & (abs(A5SS.IncLevelDifference)>0.1)]\n",
    "A3SS=A3SS[(A3SS.FDR.astype(float)<0.05) & (abs(A3SS.IncLevelDifference)>0.1)]\n",
    "\n",
    "aire=pd.read_csv('Supplemental_Figure7_data/human_aire_dep_genes_san.csv')\n",
    "aire=np.array(aire.ensembl_gene_id)\n",
    "fezf2=pd.read_csv('Supplemental_Figure7_data/human_fezf2_dep_genes.csv')\n",
    "fezf2=np.array(fezf2.ensembl_gene_id)\n",
    "housekeeping=pd.read_csv('Supplemental_Figure7_data/housekeeping_genes.csv')\n",
    "housekeeping=np.array(housekeeping.ensembl_gene_id)\n",
    "tra=pd.read_csv('Supplemental_Figure7_data/tra_genes.csv')\n",
    "tra=np.array(tra.ensembl_gene_id)\n",
    "other_tra=np.setdiff1d(tra,aire)\n",
    "other_tra=np.setdiff1d(other_tra,fezf2)"
   ]
  },
  {
   "cell_type": "code",
   "execution_count": 9,
   "id": "e286b6b4",
   "metadata": {},
   "outputs": [
    {
     "data": {
      "image/png": "[encoded data removed]",
      "text/plain": [
       "<Figure size 432x288 with 1 Axes>"
      ]
     },
     "metadata": {
      "needs_background": "light"
     },
     "output_type": "display_data"
    }
   ],
   "source": [
    "SE1=SE[SE.GeneID.isin(aire)]\n",
    "RI1=RI[RI.GeneID.isin(aire)]\n",
    "MXE1=MXE[MXE.GeneID.isin(aire)]\n",
    "A3SS1=A3SS[A3SS.GeneID.isin(aire)]\n",
    "A5SS1=A5SS[A5SS.GeneID.isin(aire)]\n",
    "\n",
    "row=[]\n",
    "for df1,name in zip([SE1,RI1,MXE1,A5SS1,A3SS1],['SE','RI','MXE','A5SS','A3SS']):\n",
    "        high=df1[df1.IncLevelDifference>0].shape[0]\n",
    "        low=df1[df1.IncLevelDifference<0].shape[0]\n",
    "        row.append([name,high,low])\n",
    "splice=pd.DataFrame(row,columns=['Splice','mTEC_hi','mTEC_lo'])\n",
    "\n",
    "df1=splice.melt( id_vars=['Splice'], value_vars=['mTEC_lo','mTEC_hi'])\n",
    "sns.barplot(x='Splice',y='value',hue='variable',data=df1,palette=[sns.color_palette()[1],sns.color_palette()[0]])\n",
    "plt.ylabel('Count',fontsize=15)\n",
    "plt.xlabel('')\n",
    "sns.despine()\n",
    "plt.legend('',frameon=False)\n",
    "plt.yticks(fontsize=12)\n",
    "plt.xticks(fontsize=15)\n",
    "plt.tight_layout()\n",
    "plt.savefig('Supplemental_Panels/SFig8A.pdf',dpi=500)\n",
    "plt.show()\n",
    "plt.close()"
   ]
  },
  {
   "cell_type": "code",
   "execution_count": 12,
   "id": "37ee06a5",
   "metadata": {},
   "outputs": [
    {
     "data": {
      "image/png": "[encoded data removed]",
      "text/plain": [
       "<Figure size 432x288 with 1 Axes>"
      ]
     },
     "metadata": {
      "needs_background": "light"
     },
     "output_type": "display_data"
    }
   ],
   "source": [
    "SE1=SE[SE.GeneID.isin(fezf2)]\n",
    "RI1=RI[RI.GeneID.isin(fezf2)]\n",
    "MXE1=MXE[MXE.GeneID.isin(fezf2)]\n",
    "A3SS1=A3SS[A3SS.GeneID.isin(fezf2)]\n",
    "A5SS1=A5SS[A5SS.GeneID.isin(fezf2)]\n",
    "\n",
    "row=[]\n",
    "for df1,name in zip([SE1,RI1,MXE1,A5SS1,A3SS1],['SE','RI','MXE','A5SS','A3SS']):\n",
    "        high=df1[df1.IncLevelDifference>0].shape[0]\n",
    "        low=df1[df1.IncLevelDifference<0].shape[0]\n",
    "        row.append([name,high,low])\n",
    "splice=pd.DataFrame(row,columns=['Splice','mTEC_hi','mTEC_lo'])\n",
    "\n",
    "df1=splice.melt( id_vars=['Splice'], value_vars=['mTEC_lo','mTEC_hi'])\n",
    "sns.barplot(x='Splice',y='value',hue='variable',data=df1,palette=[sns.color_palette()[1],sns.color_palette()[0]])\n",
    "plt.ylabel('Count',fontsize=15)\n",
    "plt.xlabel('')\n",
    "sns.despine()\n",
    "plt.legend('',frameon=False)\n",
    "plt.yticks(fontsize=12)\n",
    "plt.xticks(fontsize=15)\n",
    "plt.tight_layout()\n",
    "plt.savefig('Supplemental_Panels/SFig8B.pdf',dpi=500)\n",
    "plt.show()\n",
    "plt.close()"
   ]
  },
  {
   "cell_type": "code",
   "execution_count": 14,
   "id": "5cbb11da",
   "metadata": {},
   "outputs": [
    {
     "data": {
      "image/png": "[encoded data removed]",
      "text/plain": [
       "<Figure size 432x288 with 1 Axes>"
      ]
     },
     "metadata": {
      "needs_background": "light"
     },
     "output_type": "display_data"
    }
   ],
   "source": [
    "SE1=SE[SE.GeneID.isin(other_tra)]\n",
    "RI1=RI[RI.GeneID.isin(other_tra)]\n",
    "MXE1=MXE[MXE.GeneID.isin(other_tra)]\n",
    "A3SS1=A3SS[A3SS.GeneID.isin(other_tra)]\n",
    "A5SS1=A5SS[A5SS.GeneID.isin(other_tra)]\n",
    "\n",
    "row=[]\n",
    "for df1,name in zip([SE1,RI1,MXE1,A5SS1,A3SS1],['SE','RI','MXE','A5SS','A3SS']):\n",
    "        high=df1[df1.IncLevelDifference>0].shape[0]\n",
    "        low=df1[df1.IncLevelDifference<0].shape[0]\n",
    "        row.append([name,high,low])\n",
    "splice=pd.DataFrame(row,columns=['Splice','mTEC_hi','mTEC_lo'])\n",
    "\n",
    "df1=splice.melt( id_vars=['Splice'], value_vars=['mTEC_lo','mTEC_hi'])\n",
    "sns.barplot(x='Splice',y='value',hue='variable',data=df1,palette=[sns.color_palette()[1],sns.color_palette()[0]])\n",
    "plt.ylabel('Count',fontsize=15)\n",
    "plt.xlabel('')\n",
    "sns.despine()\n",
    "plt.legend('',frameon=False)\n",
    "plt.yticks(fontsize=12)\n",
    "plt.xticks(fontsize=15)\n",
    "plt.tight_layout()\n",
    "plt.savefig('Supplemental_Panels/SFig8C.png',dpi=500)\n",
    "plt.show()\n",
    "plt.close()"
   ]
  },
  {
   "cell_type": "code",
   "execution_count": 6,
   "id": "679633e8",
   "metadata": {},
   "outputs": [
    {
     "data": {
      "image/png": "[encoded data removed]",
      "text/plain": [
       "<Figure size 432x288 with 1 Axes>"
      ]
     },
     "metadata": {
      "needs_background": "light"
     },
     "output_type": "display_data"
    }
   ],
   "source": [
    "SE1=SE[SE.GeneID.isin(housekeeping)]\n",
    "RI1=RI[RI.GeneID.isin(housekeeping)]\n",
    "MXE1=MXE[MXE.GeneID.isin(housekeeping)]\n",
    "A3SS1=A3SS[A3SS.GeneID.isin(housekeeping)]\n",
    "A5SS1=A5SS[A5SS.GeneID.isin(housekeeping)]\n",
    "\n",
    "row=[]\n",
    "for df1,name in zip([SE1,RI1,MXE1,A5SS1,A3SS1],['SE','RI','MXE','A5SS','A3SS']):\n",
    "        high=df1[df1.IncLevelDifference>0].shape[0]\n",
    "        low=df1[df1.IncLevelDifference<0].shape[0]\n",
    "        row.append([name,high,low])\n",
    "splice=pd.DataFrame(row,columns=['Splice','mTEC_hi','mTEC_lo'])\n",
    "\n",
    "df1=splice.melt( id_vars=['Splice'], value_vars=['mTEC_lo','mTEC_hi'])\n",
    "sns.barplot(x='Splice',y='value',hue='variable',data=df1,palette=[sns.color_palette()[1],sns.color_palette()[0]])\n",
    "plt.ylabel('Count',fontsize=15)\n",
    "plt.xlabel('')\n",
    "sns.despine()\n",
    "plt.legend('',frameon=False)\n",
    "plt.yticks(fontsize=12)\n",
    "plt.xticks(fontsize=15)\n",
    "plt.tight_layout()\n",
    "plt.savefig('Supplemental_Panels/SFig8D.png',dpi=500)\n",
    "plt.show()\n",
    "plt.close()"
   ]
  },
  {
   "cell_type": "code",
   "execution_count": null,
   "id": "1a63457f",
   "metadata": {},
   "outputs": [],
   "source": []
  }
 ],
 "metadata": {
  "kernelspec": {
   "display_name": "Python 3 (ipykernel)",
   "language": "python",
   "name": "python3"
  },
  "language_info": {
   "codemirror_mode": {
    "name": "ipython",
    "version": 3
   },
   "file_extension": ".py",
   "mimetype": "text/x-python",
   "name": "python",
   "nbconvert_exporter": "python",
   "pygments_lexer": "ipython3",
   "version": "3.9.6"
  }
 },
 "nbformat": 4,
 "nbformat_minor": 5
}
