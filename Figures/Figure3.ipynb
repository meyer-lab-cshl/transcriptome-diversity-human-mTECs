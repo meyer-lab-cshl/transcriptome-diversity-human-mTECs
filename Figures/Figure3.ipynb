{
 "cells": [
  {
   "cell_type": "code",
   "execution_count": 1,
   "id": "cb5ce35c",
   "metadata": {},
   "outputs": [],
   "source": [
    "import pandas as pd\n",
    "import numpy as np\n",
    "from matplotlib import pyplot as plt\n",
    "import seaborn as sns\n",
    "from IPython.display import display, Image\n",
    "from scipy import stats\n",
    "from sklearn.decomposition import PCA\n",
    "import statsmodels.api as sm\n",
    "from matplotlib_venn import venn3"
   ]
  },
  {
   "cell_type": "markdown",
   "id": "8c1507ac",
   "metadata": {},
   "source": [
    "**Figure 3A**\n",
    "\n",
    "HOMER output files from \"HOMER_Annotation.sh\""
   ]
  },
  {
   "cell_type": "code",
   "execution_count": 2,
   "id": "7903890f",
   "metadata": {},
   "outputs": [
    {
     "data": {
      "text/html": [
       "<div>\n",
       "<style scoped>\n",
       "    .dataframe tbody tr th:only-of-type {\n",
       "        vertical-align: middle;\n",
       "    }\n",
       "\n",
       "    .dataframe tbody tr th {\n",
       "        vertical-align: top;\n",
       "    }\n",
       "\n",
       "    .dataframe thead th {\n",
       "        text-align: right;\n",
       "    }\n",
       "</style>\n",
       "<table border=\"1\" class=\"dataframe\">\n",
       "  <thead>\n",
       "    <tr style=\"text-align: right;\">\n",
       "      <th></th>\n",
       "      <th>OR</th>\n",
       "      <th>P</th>\n",
       "      <th>Motif</th>\n",
       "      <th>Upper</th>\n",
       "      <th>Lower</th>\n",
       "    </tr>\n",
       "  </thead>\n",
       "  <tbody>\n",
       "    <tr>\n",
       "      <th>78</th>\n",
       "      <td>0.37071909610290127</td>\n",
       "      <td>0.0004010260456736763</td>\n",
       "      <td>Ronin</td>\n",
       "      <td>0.6614093482769695</td>\n",
       "      <td>0.20778758052539872</td>\n",
       "    </tr>\n",
       "    <tr>\n",
       "      <th>67</th>\n",
       "      <td>0.49113451686981097</td>\n",
       "      <td>4.7159949960646046e-08</td>\n",
       "      <td>NRF1</td>\n",
       "      <td>0.6394171026462983</td>\n",
       "      <td>0.3772390708078585</td>\n",
       "    </tr>\n",
       "    <tr>\n",
       "      <th>13</th>\n",
       "      <td>0.5439324069202439</td>\n",
       "      <td>1.8312339793257228e-12</td>\n",
       "      <td>E2F3</td>\n",
       "      <td>0.6463805034226976</td>\n",
       "      <td>0.45772182442293025</td>\n",
       "    </tr>\n",
       "    <tr>\n",
       "      <th>87</th>\n",
       "      <td>0.5582572871816822</td>\n",
       "      <td>1.8074130008461726e-12</td>\n",
       "      <td>Sp1</td>\n",
       "      <td>0.6582902147932564</td>\n",
       "      <td>0.47342523356408905</td>\n",
       "    </tr>\n",
       "    <tr>\n",
       "      <th>66</th>\n",
       "      <td>0.5685124906859093</td>\n",
       "      <td>4.4183942410535427e-05</td>\n",
       "      <td>NRF</td>\n",
       "      <td>0.7474266207678636</td>\n",
       "      <td>0.43242566304883795</td>\n",
       "    </tr>\n",
       "  </tbody>\n",
       "</table>\n",
       "</div>"
      ],
      "text/plain": [
       "                     OR                       P  Motif               Upper  \\\n",
       "78  0.37071909610290127   0.0004010260456736763  Ronin  0.6614093482769695   \n",
       "67  0.49113451686981097  4.7159949960646046e-08   NRF1  0.6394171026462983   \n",
       "13   0.5439324069202439  1.8312339793257228e-12   E2F3  0.6463805034226976   \n",
       "87   0.5582572871816822  1.8074130008461726e-12    Sp1  0.6582902147932564   \n",
       "66   0.5685124906859093  4.4183942410535427e-05    NRF  0.7474266207678636   \n",
       "\n",
       "                  Lower  \n",
       "78  0.20778758052539872  \n",
       "67   0.3772390708078585  \n",
       "13  0.45772182442293025  \n",
       "87  0.47342523356408905  \n",
       "66  0.43242566304883795  "
      ]
     },
     "execution_count": 2,
     "metadata": {},
     "output_type": "execute_result"
    }
   ],
   "source": [
    "high=pd.read_csv('High_knownResults.txt',sep='\\t')\n",
    "low=pd.read_csv('Low_knownResults.txt',sep='\\t')\n",
    "hi=[]\n",
    "lo=[]\n",
    "odds=[]\n",
    "p=[]\n",
    "motif=[]\n",
    "lower=[]\n",
    "upper=[]\n",
    "for x in np.union1d(low[low['q-value (Benjamini)']<.05]['Motif Name'],high[high['q-value (Benjamini)']<.05]['Motif Name']):\n",
    "    h=high[high['Motif Name']==x]\n",
    "    l=low[low['Motif Name']==x]\n",
    "    a=h.iloc[0]['# of Target Sequences with Motif(of 1858)']\n",
    "    b=l.iloc[0]['# of Target Sequences with Motif(of 2374)']\n",
    "    c=1858-a\n",
    "    d=2374-b\n",
    "    odd,pv=stats.fisher_exact([[a,b], [c,d]])\n",
    "    lower_ci,upper_ci=sm.stats.Table2x2(np.asarray([[a,b],[c,d]])).oddsratio_confint(alpha=0.05, method='normal')\n",
    "    odds.append(odd)\n",
    "    p.append(pv)\n",
    "    motif.append(x)\n",
    "    lower.append(lower_ci)\n",
    "    upper.append(upper_ci)\n",
    "df=pd.DataFrame(np.vstack((odds,p,motif,upper,lower)).T,columns=['OR','P','Motif','Upper','Lower'])\n",
    "x=df[df.P.astype(float)<=(.05/len(motif))].sort_values(by='OR',ascending=True)\n",
    "x.Motif=[y.split('(')[0] for y in x.Motif]\n",
    "x.head()"
   ]
  },
  {
   "cell_type": "code",
   "execution_count": 3,
   "id": "2372f98f",
   "metadata": {},
   "outputs": [
    {
     "data": {
      "image/png": "[encoded data removed]",
      "text/plain": [
       "<Figure size 360x648 with 1 Axes>"
      ]
     },
     "metadata": {
      "needs_background": "light"
     },
     "output_type": "display_data"
    }
   ],
   "source": [
    "df=pd.DataFrame(np.vstack((odds,p,motif,upper,lower)).T,columns=['OR','P','Motif','Upper','Lower'])\n",
    "x=df[df.P.astype(float)<=(.05/len(motif))].sort_values(by='OR',ascending=False)\n",
    "x.Motif=[y.split('(')[0] for y in x.Motif]\n",
    "plt.figure(figsize=(5,9))\n",
    "for a,b,c in zip(x.Upper.astype(float),x.Lower.astype(float),x.Motif):\n",
    "    plt.plot([np.log10(a),np.log10(b)],[c,c],'k',zorder=1)\n",
    "plt.scatter(np.log10(x.OR.astype(float)),x.Motif,color=sns.color_palette()[1],marker='s',s=50,zorder=2)\n",
    "plt.scatter(np.log10(x[x.OR.astype(float)>1].OR.astype(float)),x[x.OR.astype(float)>1].Motif,color=sns.color_palette()[0],marker='s',s=50,zorder=2)\n",
    "\n",
    "sns.despine()\n",
    "plt.plot([0,0],[-1,x.Motif.shape[0]-0.5],'--',color='gray')\n",
    "plt.ylim([-.5,x.Motif.shape[0]])\n",
    "plt.xlabel('log$_{2}$(odds ratio)',fontsize=20)\n",
    "plt.xticks(fontsize=12)\n",
    "plt.yticks(fontsize=15)\n",
    "plt.tight_layout()\n",
    "plt.show()\n",
    "plt.close()"
   ]
  },
  {
   "cell_type": "markdown",
   "id": "a0cf8229",
   "metadata": {},
   "source": [
    "**Figure 3B**"
   ]
  },
  {
   "cell_type": "code",
   "execution_count": 4,
   "id": "cee92adc",
   "metadata": {},
   "outputs": [],
   "source": [
    "#Import Kallisto abundnace files (pt{name}_abundance.tsv) and Sleuth results table\n",
    "df=pd.read_csv('Sleuth_results_all.txt')\n",
    "df=df.sort_values(by='qval')\n",
    "df=df[df.ens_gene.astype(str)!='nan']\n",
    "df_abundance=pd.read_pickle('Kallisto_abundance.pkl')"
   ]
  },
  {
   "cell_type": "code",
   "execution_count": 5,
   "id": "408c7977",
   "metadata": {},
   "outputs": [],
   "source": [
    "motifs=['THAP11','NRF1','E2F3','SP1','NRF','KLF14','SP5','MAZ','ELK4','SP2','KLF9','ELK1','ELF1','KLF1',\n",
    "    'KLF6','KLF5','TAL1','NANOG','NF1','LHX3','ASCL2','PRDM10','NFKB1','NFKB2','NF1']\n",
    "s=['pt214_lo_tpm','pt221_lo_tpm','pt226_lo_tpm','pt214_hi_tpm','pt221_hi_tpm','pt226_hi_tpm']"
   ]
  },
  {
   "cell_type": "code",
   "execution_count": 6,
   "id": "48afb1cf",
   "metadata": {},
   "outputs": [
    {
     "data": {
      "image/png": "[encoded data removed]",
      "text/plain": [
       "<Figure size 720x720 with 4 Axes>"
      ]
     },
     "metadata": {},
     "output_type": "display_data"
    }
   ],
   "source": [
    "t=[]\n",
    "g=[]\n",
    "b=[]\n",
    "for gene in motifs:\n",
    "    x=df[df.ext_gene==gene]\n",
    "    x=x[x.qval<0.05]\n",
    "    t=np.hstack((t,x.target_id))\n",
    "    g=np.hstack((g,x.ext_gene))\n",
    "    b=np.hstack((b,x.b))\n",
    "x=df_abundance.loc[t]\n",
    "x.index=np.array(g)\n",
    "x.index=[x+'*' if x in ['KLF1','KLF9','NFKB2'] else x for x in x.index]\n",
    "x=x.drop_duplicates()\n",
    "sns.set(font_scale=2)\n",
    "cm=sns.clustermap(np.log2(x[s]+0.1),robust=True,col_cluster=1,\n",
    "               cmap='coolwarm',z_score=0,center=0)\n",
    "cm.ax_heatmap.set_xticklabels(cm.ax_heatmap.get_xmajorticklabels(), fontsize = 0)\n",
    "cm.ax_heatmap.set_yticklabels(cm.ax_heatmap.get_ymajorticklabels(), fontsize = 25,rotation=0)\n",
    "plt.show()\n",
    "plt.close()"
   ]
  },
  {
   "cell_type": "markdown",
   "id": "a0185195",
   "metadata": {},
   "source": [
    "**Figure 3C-D**"
   ]
  },
  {
   "cell_type": "code",
   "execution_count": 7,
   "id": "94e0a829",
   "metadata": {},
   "outputs": [],
   "source": [
    "df_all=pd.read_pickle('df_all_new.pkl')\n",
    "df_High=df_all[(df_all.High>1) & (df_all.Low==0)]\n",
    "df_Low=df_all[(df_all.Low>1) & (df_all.High==0)]\n",
    "df_High[['Chr','Start','Stop','UniqueIdentifier']].to_csv('High_hg38.txt',header=None,index=False,sep='\\t')\n",
    "df_Low[['Chr','Start','Stop','UniqueIdentifier']].to_csv('Low_hg38.txt',header=None,index=False,sep='\\t')\n",
    "#UCSC genome liftover hg38 -> hg19 to be compatibile w/ SEdb\n",
    "high=pd.read_csv('High_hg19.txt',sep='\\t',header=None)\n",
    "low=pd.read_csv('Low_hg19.txt',sep='\\t',header=None)\n",
    "high.columns=['chr','start','stop','index']\n",
    "low.columns=['chr','start','stop','index']"
   ]
  },
  {
   "cell_type": "code",
   "execution_count": 8,
   "id": "037b7cab",
   "metadata": {},
   "outputs": [],
   "source": [
    "SE=pd.read_csv('SE_package.txt',sep='\\t')\n",
    "SE=SE[['chr','start','end']]\n",
    "SE=SE.drop_duplicates()"
   ]
  },
  {
   "cell_type": "code",
   "execution_count": 9,
   "id": "8cd270ff",
   "metadata": {},
   "outputs": [],
   "source": [
    "#Calculate distance between TSR and SE\n",
    "for it,df in enumerate([high,low]):\n",
    "    distance=[]\n",
    "    direction=[]\n",
    "    index=[]\n",
    "    for chromosome in df.chr.unique():\n",
    "        if chromosome in SE.chr.unique():\n",
    "            se_chr=SE[SE.chr==chromosome].sort_values(by='start')\n",
    "            df_chr=df[df.chr==chromosome]\n",
    "            for i in range(df_chr.shape[0]):\n",
    "                row=df_chr.iloc[i]\n",
    "                try:\n",
    "                    upstream=np.array(se_chr.start-row.stop)\n",
    "                    upstream=min(upstream[upstream>0])\n",
    "                    downstream=row.start-se_chr.end\n",
    "                    downstream=min(downstream[downstream>0])\n",
    "                    closest=min(upstream,downstream)\n",
    "                    distance.append(closest)\n",
    "                    direction.append(upstream<downstream)\n",
    "                    index.append(row['index'])\n",
    "                except:\n",
    "                    pass\n",
    "    direction=np.array([-1 if x==True else 1 for x in direction])\n",
    "    distance=np.array(distance)\n",
    "    if it==0:\n",
    "        dir_distance_high=pd.DataFrame(np.vstack((direction*distance,['High']*distance.shape[0],index)).T)\n",
    "    else:\n",
    "        dir_distance_low=pd.DataFrame(np.vstack((direction*distance,['Low']*distance.shape[0],index)).T)\n",
    "df=dir_distance_high.append(dir_distance_low)\n",
    "df.columns=['Distance','Class','Index']\n",
    "df.Distance=df.Distance.astype(int)\n",
    "df.Distance=df.Distance/1000\n",
    "df['Direction']=['Upstream' if np.sign(x)==1 else 'Downstream' for x in df.Distance]\n",
    "df=df.assign(Abs_distance=df.Distance.abs())\n",
    "df_SE=df"
   ]
  },
  {
   "cell_type": "code",
   "execution_count": 10,
   "id": "9bd89b19",
   "metadata": {},
   "outputs": [],
   "source": [
    "TE=pd.read_csv('TE_package.txt',sep='\\t',header=None)\n",
    "TE=TE[TE.columns[:3]]\n",
    "TE.columns=['chr','start','end']\n",
    "TE=TE.drop_duplicates()"
   ]
  },
  {
   "cell_type": "code",
   "execution_count": 11,
   "id": "b5569c24",
   "metadata": {},
   "outputs": [],
   "source": [
    "#Calculate distance between TSR and TE\n",
    "for it,df in enumerate([high,low]):\n",
    "    distance=[]\n",
    "    direction=[]\n",
    "    index=[]\n",
    "    for chromosome in df.chr.unique():\n",
    "        if chromosome in TE.chr.unique():\n",
    "            se_chr=TE[TE.chr==chromosome].sort_values(by='start')\n",
    "            df_chr=df[df.chr==chromosome]\n",
    "            for i in range(df_chr.shape[0]):\n",
    "                row=df_chr.iloc[i]\n",
    "                try:\n",
    "                    upstream=np.array(se_chr.start-row.stop)\n",
    "                    upstream=min(upstream[upstream>0])\n",
    "                    downstream=row.start-se_chr.end\n",
    "                    downstream=min(downstream[downstream>0])\n",
    "                    closest=min(upstream,downstream)\n",
    "                    distance.append(closest)\n",
    "                    direction.append(upstream<downstream)\n",
    "                    index.append(row['index'])\n",
    "                except:\n",
    "                    pass\n",
    "    direction=np.array([-1 if x==True else 1 for x in direction])\n",
    "    distance=np.array(distance)\n",
    "    if it==0:\n",
    "        dir_distance_high=pd.DataFrame(np.vstack((direction*distance,['High']*distance.shape[0],index)).T)\n",
    "    else:\n",
    "        dir_distance_low=pd.DataFrame(np.vstack((direction*distance,['Low']*distance.shape[0],index)).T)\n",
    "df=dir_distance_high.append(dir_distance_low)\n",
    "df.columns=['Distance','Class','Index']\n",
    "df.Distance=df.Distance.astype(int)\n",
    "df.Distance=df.Distance/1000\n",
    "df['Direction']=['Upstream' if np.sign(x)==1 else 'Downstream' for x in df.Distance]\n",
    "df=df.assign(Abs_distance=df.Distance.abs())\n",
    "df_TE=df"
   ]
  },
  {
   "cell_type": "code",
   "execution_count": 12,
   "id": "ab70b469",
   "metadata": {},
   "outputs": [],
   "source": [
    "df_TE['Type']=['TE']*df_TE.shape[0]\n",
    "df_SE['Type']=['SE']*df_SE.shape[0]\n",
    "df=df_SE.append(df_TE)"
   ]
  },
  {
   "cell_type": "code",
   "execution_count": 13,
   "id": "33fffddf",
   "metadata": {},
   "outputs": [
    {
     "data": {
      "image/png": "[encoded data removed]",
      "text/plain": [
       "<Figure size 198x288 with 1 Axes>"
      ]
     },
     "metadata": {},
     "output_type": "display_data"
    }
   ],
   "source": [
    "sns.set_style(\"white\")\n",
    "sns.set_style(\"ticks\")\n",
    "plt.figure(figsize=(2.75,4))\n",
    "sns.boxplot(x='Class',y='Abs_distance',data=df[df.Type=='TE'],order=['Low','High'],palette=[sns.color_palette()[1],sns.color_palette()[0]])\n",
    "sns.despine()\n",
    "plt.xlabel('')\n",
    "plt.xticks([])\n",
    "plt.ylim([.0008,100])\n",
    "plt.yscale('log')\n",
    "plt.yticks(fontsize=12.5)\n",
    "plt.ylabel('Distance to TE (kb)',fontsize=15)\n",
    "plt.tight_layout()\n",
    "plt.show()\n",
    "plt.close()"
   ]
  },
  {
   "cell_type": "code",
   "execution_count": 14,
   "id": "bb278b5c",
   "metadata": {},
   "outputs": [
    {
     "data": {
      "image/png": "[encoded data removed]",
      "text/plain": [
       "<Figure size 198x288 with 1 Axes>"
      ]
     },
     "metadata": {},
     "output_type": "display_data"
    }
   ],
   "source": [
    "plt.figure(figsize=(2.75,4))\n",
    "sns.boxplot(x='Class',y='Abs_distance',data=df[df.Type=='SE'],order=['Low','High'],palette=[sns.color_palette()[1],sns.color_palette()[0]])\n",
    "sns.despine()\n",
    "plt.xlabel('')\n",
    "plt.xticks([])\n",
    "plt.ylim([.0008,2500])\n",
    "plt.yscale('log')\n",
    "plt.yticks(fontsize=12.5)\n",
    "plt.ylabel('Distance to SE (kb)',fontsize=15)\n",
    "plt.tight_layout()\n",
    "plt.show()\n",
    "plt.close()"
   ]
  },
  {
   "cell_type": "markdown",
   "id": "8d320fe1",
   "metadata": {},
   "source": [
    "**Figure 3E**"
   ]
  },
  {
   "cell_type": "code",
   "execution_count": 15,
   "id": "757e2bd1",
   "metadata": {},
   "outputs": [],
   "source": [
    "tpm_lo=['pt212_lo_TPM','pt221_lo_TPM','pt226_lo_TPM','pt87_lo_TPM','pt214_lo_TPM']\n",
    "tpm_hi=['pt212_hi_TPM','pt221_hi_TPM','pt226_hi_TPM','pt87_hi_TPM','pt214_hi_TPM']\n",
    "tpm=np.hstack((tpm_hi,tpm_lo))"
   ]
  },
  {
   "cell_type": "code",
   "execution_count": 16,
   "id": "04362538",
   "metadata": {},
   "outputs": [],
   "source": [
    "df=df_High.append(df_Low)\n",
    "df=df[(df.Fezf2_dep==False) & (df.Aire_dep==True)]\n",
    "masked_df=1*(df[tpm]>0)\n",
    "i=0\n",
    "for feature in ['Annotations_short']:\n",
    "    for name in tpm:\n",
    "        if df[masked_df[name]==1].shape[0]>5:\n",
    "            percentage=np.sum(df[masked_df[name]==1][feature]=='promoter-TSS')/df[masked_df[name]==1].shape[0]\n",
    "            x=pd.DataFrame(np.vstack((feature,percentage,name.split('_')[0],name.split('_')[1])).T,columns=['Feature','Percentage','Patient','Hue'])\n",
    "            if i==0:\n",
    "                y=x\n",
    "            else:\n",
    "                y=y.append(x)\n",
    "            i+=1\n",
    "y.Percentage=y.Percentage.astype(float)"
   ]
  },
  {
   "cell_type": "code",
   "execution_count": 17,
   "id": "1109f228",
   "metadata": {},
   "outputs": [
    {
     "name": "stdout",
     "output_type": "stream",
     "text": [
      "Ttest_relResult(statistic=5.175682948689765, pvalue=0.0066259842053060436)\n"
     ]
    },
    {
     "data": {
      "image/png": "[encoded data removed]",
      "text/plain": [
       "<Figure size 180x288 with 1 Axes>"
      ]
     },
     "metadata": {},
     "output_type": "display_data"
    }
   ],
   "source": [
    "plt.figure(figsize=(2.5,4))\n",
    "feature='Annotations_short'\n",
    "for x in y.Patient.unique():\n",
    "    plt.plot([0.5,0.1],[y[(y.Feature==feature) & (y.Patient==x) & (y.Hue=='hi')].Percentage,y[(y.Feature==feature) & (y.Patient==x) & (y.Hue=='lo')].Percentage],color='lightgray',zorder=1)\n",
    "\n",
    "plt.scatter(0.5,y[(y.Feature==feature) & (y.Hue=='hi')].Percentage.mean(),lw=5,zorder=3)\n",
    "plt.plot([0.5,0.5],[y[(y.Feature==feature) & (y.Hue=='hi')].Percentage.mean()+y[(y.Feature==feature) & (y.Hue=='hi')].Percentage.std(),\n",
    "               y[(y.Feature==feature) & (y.Hue=='hi')].Percentage.mean()-y[(y.Feature==feature) & (y.Hue=='hi')].Percentage.std()],lw=3,zorder=2)\n",
    "\n",
    "plt.scatter(.1,y[(y.Feature==feature) & (y.Hue=='lo')].Percentage.mean(),lw=5,zorder=3)\n",
    "plt.plot([.1,.1],[y[(y.Feature==feature) & (y.Hue=='lo')].Percentage.mean()+y[(y.Feature==feature) & (y.Hue=='lo')].Percentage.std(),\n",
    "               y[(y.Feature==feature) & (y.Hue=='lo')].Percentage.mean()-y[(y.Feature==feature) & (y.Hue=='lo')].Percentage.std()],lw=3,zorder=2)\n",
    "\n",
    "\n",
    "print(stats.ttest_rel(y[(y.Feature==feature) & (y.Hue=='lo')].Percentage,y[(y.Feature==feature) & (y.Hue=='hi')].Percentage))\n",
    "\n",
    "plt.xlim([0,.6])\n",
    "plt.ylim([.4,.8])\n",
    "plt.xticks([])\n",
    "plt.yticks(fontsize=12.5)\n",
    "plt.xlabel('')\n",
    "#plt.xlabel(fontsize=0)\n",
    "plt.ylabel('Promoter frequency',fontsize=15)\n",
    "plt.xlabel('Aire induced',fontsize=15)\n",
    "sns.despine() \n",
    "plt.tight_layout()\n",
    "plt.show()\n",
    "plt.close()\n",
    "             "
   ]
  },
  {
   "cell_type": "markdown",
   "id": "2797e84e",
   "metadata": {},
   "source": [
    "**Figure 3F**"
   ]
  },
  {
   "cell_type": "code",
   "execution_count": 18,
   "id": "5a6a12ca",
   "metadata": {},
   "outputs": [],
   "source": [
    "df=df_High.append(df_Low)\n",
    "df=df[(df.Fezf2_dep==True) & (df.Aire_dep==False)]\n",
    "masked_df=1*(df[tpm]>0)\n",
    "i=0\n",
    "for feature in ['Annotations_short']:\n",
    "    for name in tpm:\n",
    "        if df[masked_df[name]==1].shape[0]>3:\n",
    "            percentage=np.sum(df[masked_df[name]==1][feature]=='promoter-TSS')/df[masked_df[name]==1].shape[0]\n",
    "            x=pd.DataFrame(np.vstack((feature,percentage,name.split('_')[0],name.split('_')[1])).T,columns=['Feature','Percentage','Patient','Hue'])\n",
    "            if i==0:\n",
    "                y=x\n",
    "            else:\n",
    "                y=y.append(x)\n",
    "            i+=1\n",
    "y.Percentage=y.Percentage.astype(float)"
   ]
  },
  {
   "cell_type": "code",
   "execution_count": 19,
   "id": "1639fcf1",
   "metadata": {},
   "outputs": [
    {
     "name": "stdout",
     "output_type": "stream",
     "text": [
      "Ttest_relResult(statistic=-0.07972021149674276, pvalue=0.9414798651489442)\n"
     ]
    },
    {
     "data": {
      "image/png": "[encoded data removed]",
      "text/plain": [
       "<Figure size 180x288 with 1 Axes>"
      ]
     },
     "metadata": {},
     "output_type": "display_data"
    }
   ],
   "source": [
    "plt.figure(figsize=(2.5,4))\n",
    "feature='Annotations_short'\n",
    "for x in y.Patient.unique():\n",
    "    plt.plot([0.5,0.1],[y[(y.Feature==feature) & (y.Patient==x) & (y.Hue=='hi')].Percentage,y[(y.Feature==feature) & (y.Patient==x) & (y.Hue=='lo')].Percentage],color='lightgray',zorder=1)\n",
    "\n",
    "plt.scatter(0.5,y[(y.Feature==feature) & (y.Hue=='hi')].Percentage.mean(),lw=5,zorder=3)\n",
    "plt.plot([0.5,0.5],[y[(y.Feature==feature) & (y.Hue=='hi')].Percentage.mean()+y[(y.Feature==feature) & (y.Hue=='hi')].Percentage.std(),\n",
    "               y[(y.Feature==feature) & (y.Hue=='hi')].Percentage.mean()-y[(y.Feature==feature) & (y.Hue=='hi')].Percentage.std()],lw=3,zorder=2)\n",
    "\n",
    "plt.scatter(.1,y[(y.Feature==feature) & (y.Hue=='lo')].Percentage.mean(),lw=5,zorder=3)\n",
    "plt.plot([.1,.1],[y[(y.Feature==feature) & (y.Hue=='lo')].Percentage.mean()+y[(y.Feature==feature) & (y.Hue=='lo')].Percentage.std(),\n",
    "               y[(y.Feature==feature) & (y.Hue=='lo')].Percentage.mean()-y[(y.Feature==feature) & (y.Hue=='lo')].Percentage.std()],lw=3,zorder=2)\n",
    "\n",
    "\n",
    "print(stats.ttest_rel(y[(y.Feature==feature) & (y.Hue=='lo')].Percentage,y[(y.Feature==feature) & (y.Hue=='hi')].Percentage))\n",
    "\n",
    "plt.xlim([0,.6])\n",
    "#plt.ylim([.4,.8])\n",
    "plt.xticks([])\n",
    "plt.yticks(fontsize=12.5)\n",
    "plt.xlabel('')\n",
    "plt.ylabel('Promoter frequency',fontsize=15)\n",
    "plt.xlabel('Fezf2 induced',fontsize=15)\n",
    "sns.despine() \n",
    "plt.tight_layout()\n",
    "plt.show()\n",
    "plt.close()\n",
    "             "
   ]
  },
  {
   "cell_type": "markdown",
   "id": "bcbfb32b",
   "metadata": {},
   "source": [
    "**Figure 3G**"
   ]
  },
  {
   "cell_type": "code",
   "execution_count": 20,
   "id": "345163fb",
   "metadata": {},
   "outputs": [],
   "source": [
    "df=pd.read_csv('Sleuth_results_all.txt')\n",
    "df=df.sort_values(by='qval')\n",
    "df=df[df.ens_gene.astype(str)!='nan']\n",
    "df_abundance=pd.read_pickle('Kallisto_abundance.pkl')\n",
    "aire=df_abundance.loc[df[df.ens_gene.isin(df_all[df_all.Aire_dep==True].Nearest_Ensembl)].target_id]\n",
    "fezf2=df_abundance.loc[df[df.ens_gene.isin(df_all[df_all.Fezf2_dep==True].Nearest_Ensembl)].target_id]"
   ]
  },
  {
   "cell_type": "code",
   "execution_count": 21,
   "id": "f13bd8dd",
   "metadata": {},
   "outputs": [
    {
     "data": {
      "image/png": "[encoded data removed]",
      "text/plain": [
       "<Figure size 198x324 with 1 Axes>"
      ]
     },
     "metadata": {},
     "output_type": "display_data"
    }
   ],
   "source": [
    "plt.figure(figsize=(2.75,4.5))\n",
    "sns.set_style(\"ticks\")\n",
    "x=pd.DataFrame(np.vstack((fezf2[['pt214_hi_tpm','pt221_hi_tpm','pt226_hi_tpm']].mean(axis=1),\n",
    "           ['Fezf2']*fezf2.shape[0])).T)\n",
    "x=x.append(pd.DataFrame(np.vstack((aire[['pt214_hi_tpm','pt221_hi_tpm','pt226_hi_tpm']].mean(axis=1).sample(n=fezf2.shape[0],random_state=0),\n",
    "           ['Aire']*fezf2.shape[0])).T))\n",
    "x.columns=['value','category']\n",
    "x.value=x.value.astype(float)\n",
    "x.value=np.log2(x.value+0.000001)\n",
    "sns.boxplot(x='category',y='value',data=x,palette=['lightgray','salmon'],order=['Aire','Fezf2'])\n",
    "plt.ylim([-8,13])\n",
    "plt.yticks(np.arange(-8,14,4),fontsize=14)\n",
    "plt.xticks(fontsize=13.5,rotation=45)\n",
    "plt.xlabel('Induced genes',fontsize=15)\n",
    "plt.ylabel('log$_2$TPM',fontsize=15)\n",
    "sns.despine() \n",
    "plt.tight_layout()\n",
    "plt.show()\n",
    "plt.close()"
   ]
  },
  {
   "cell_type": "markdown",
   "id": "1a7e7ffa",
   "metadata": {},
   "source": [
    "**Figure 3G**\n",
    "\n",
    "ngs.plot.r -G mm10 -R tss "
   ]
  }
 ],
 "metadata": {
  "kernelspec": {
   "display_name": "Python 3 (ipykernel)",
   "language": "python",
   "name": "python3"
  },
  "language_info": {
   "codemirror_mode": {
    "name": "ipython",
    "version": 3
   },
   "file_extension": ".py",
   "mimetype": "text/x-python",
   "name": "python",
   "nbconvert_exporter": "python",
   "pygments_lexer": "ipython3",
   "version": "3.9.6"
  }
 },
 "nbformat": 4,
 "nbformat_minor": 5
}
