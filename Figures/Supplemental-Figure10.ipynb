{
 "cells": [
  {
   "cell_type": "code",
   "execution_count": 1,
   "metadata": {},
   "outputs": [],
   "source": [
    "import pandas as pd\n",
    "import numpy as np\n",
    "from matplotlib import pyplot as plt\n",
    "import seaborn as sns\n",
    "from IPython.display import display, Image\n",
    "from scipy import stats\n",
    "from sklearn.decomposition import PCA\n",
    "import statsmodels.api as sm\n",
    "from matplotlib_venn import venn2"
   ]
  },
  {
   "cell_type": "code",
   "execution_count": 2,
   "metadata": {},
   "outputs": [],
   "source": [
    "rnaseq = pd.read_csv('Supplemental_Figure10_data/mTEC_RNAseq_results_all.csv')\n",
    "tss=pd.read_pickle('common_data/fivepseq_abundance_tsr.pkl')"
   ]
  },
  {
   "cell_type": "code",
   "execution_count": 3,
   "metadata": {},
   "outputs": [],
   "source": [
    "tss_protein = tss[tss.Gene_Type==\"protein-coding\"]\n",
    "\n",
    "expression_mask=rnaseq.loc[:,rnaseq.columns.str.startswith('pt')] > 1\n",
    "expressed = rnaseq[expression_mask.any(axis=1)]\n",
    "expressed_protein = expressed[expressed.type==\"protein-coding\"]"
   ]
  },
  {
   "cell_type": "code",
   "execution_count": 4,
   "metadata": {},
   "outputs": [
    {
     "data": {
      "text/plain": [
       "0.9612338788747266"
      ]
     },
     "execution_count": 4,
     "metadata": {},
     "output_type": "execute_result"
    }
   ],
   "source": [
    "tss_rnaseq_protein_intersect = np.intersect1d(expressed_protein.ens_gene.dropna().values, tss_protein.Nearest_Ensembl.dropna().values)\n",
    "tss_rnaseq_protein_intersect.shape[0]/tss_protein.Nearest_Ensembl.dropna().unique().shape[0]"
   ]
  },
  {
   "cell_type": "code",
   "execution_count": 5,
   "metadata": {},
   "outputs": [
    {
     "data": {
      "text/plain": [
       "0.8513875285667646"
      ]
     },
     "execution_count": 5,
     "metadata": {},
     "output_type": "execute_result"
    }
   ],
   "source": [
    "tss_rnaseq_intersect = np.intersect1d(expressed.ens_gene.dropna().values, tss.Nearest_Ensembl.dropna().values).shape\n",
    "tss_rnaseq_intersect[0]/tss.Nearest_Ensembl.dropna().unique().shape[0]"
   ]
  },
  {
   "cell_type": "code",
   "execution_count": 6,
   "metadata": {},
   "outputs": [
    {
     "data": {
      "image/png": "[encoded data removed]",
      "text/plain": [
       "<Figure size 432x288 with 1 Axes>"
      ]
     },
     "metadata": {},
     "output_type": "display_data"
    },
    {
     "name": "stdout",
     "output_type": "stream",
     "text": [
      "Total TSRs in protein-coding genes (multiple TSS per gene possible): 13259\n",
      "Protein-coding genes expressed (multiple transcripts per gene possible): 15770\n",
      "Genes for which both TRS and RNAseq evidence for expression:  12745 (96.1%)\n",
      "Fraction of TRS: TRS only and shared with RNAseq evidence for expression:  3.9% and 96.1%\n",
      "Fraction of expressed genes: expressed only and shared with TRS evidence:  19.2% and 80.8%\n"
     ]
    }
   ],
   "source": [
    "both=tss_rnaseq_protein_intersect.shape[0] \n",
    "tss_only = tss_protein.Nearest_Ensembl.dropna().unique().shape[0] - both\n",
    "rnaseq_only = expressed_protein.ens_gene.dropna().unique().shape[0] - both\n",
    "\n",
    "c=venn2(subsets = (tss_only, rnaseq_only, both),alpha=0.7,set_colors=('blue','gray'),\n",
    "        set_labels = ('5P-seq', 'RNAseq'))\n",
    "plt.savefig('figureS5.pdf', bbox_inches=\"tight\")\n",
    "plt.show()\n",
    "plt.close()\n",
    "\n",
    "print(f'Total TSRs in protein-coding genes (multiple TSS per gene possible): {tss_protein.Nearest_Ensembl.dropna().unique().shape[0]}')\n",
    "print(f'Protein-coding genes expressed (multiple transcripts per gene possible): {expressed_protein.ens_gene.dropna().unique().shape[0]}')\n",
    "print(f'Genes for which both TRS and RNAseq evidence for expression:  {both} ({round(both/tss_protein.Nearest_Ensembl.dropna().unique().shape[0]*100,1)}%)')\n",
    "print(f'Fraction of TRS: TRS only and shared with RNAseq evidence for expression:  {round(tss_only/tss_protein.Nearest_Ensembl.dropna().unique().shape[0]*100,1)}% and {round(both/tss_protein.Nearest_Ensembl.dropna().unique().shape[0]*100,1)}%')\n",
    "print(f'Fraction of expressed genes: expressed only and shared with TRS evidence:  {round(rnaseq_only/expressed_protein.ens_gene.dropna().unique().shape[0]*100,1)}% and {round(both/expressed_protein.ens_gene.dropna().unique().shape[0]*100,1)}%')\n"
   ]
  },
  {
   "cell_type": "code",
   "execution_count": null,
   "metadata": {},
   "outputs": [],
   "source": []
  }
 ],
 "metadata": {
  "kernelspec": {
   "display_name": "Python 3 (ipykernel)",
   "language": "python",
   "name": "python3"
  },
  "language_info": {
   "codemirror_mode": {
    "name": "ipython",
    "version": 3
   },
   "file_extension": ".py",
   "mimetype": "text/x-python",
   "name": "python",
   "nbconvert_exporter": "python",
   "pygments_lexer": "ipython3",
   "version": "3.10.4"
  }
 },
 "nbformat": 4,
 "nbformat_minor": 4
}
