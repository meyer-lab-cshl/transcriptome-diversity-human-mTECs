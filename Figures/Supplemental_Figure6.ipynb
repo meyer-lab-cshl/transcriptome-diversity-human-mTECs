{
 "cells": [
  {
   "cell_type": "code",
   "execution_count": 1,
   "id": "ca56fa97",
   "metadata": {},
   "outputs": [],
   "source": [
    "import pandas as pd\n",
    "import numpy as np\n",
    "from matplotlib import pyplot as plt\n",
    "import seaborn as sns\n",
    "from IPython.display import display, Image\n",
    "from scipy import stats\n",
    "from sklearn.decomposition import PCA\n",
    "import statsmodels.api as sm\n",
    "from matplotlib_venn import venn3"
   ]
  },
  {
   "cell_type": "code",
   "execution_count": 2,
   "id": "fbb1a07b",
   "metadata": {},
   "outputs": [],
   "source": [
    "df_all=pd.read_pickle('common_data/fivepseq_abundance_tsr.pkl')                \n",
    "df_High=df_all[(df_all.High>1) & (df_all.Low==0)]\n",
    "df_Low=df_all[(df_all.Low>1) & (df_all.High==0)]\n",
    "df_sleuth=pd.read_csv('common_data/Sleuth_results_all.txt')\n",
    "df_sleuth=df_sleuth.sort_values(by='qval')\n",
    "df_sleuth=df_sleuth[df_sleuth.ens_gene.astype(str)!='nan']\n",
    "df_abundance=pd.read_pickle('common_data/Kallisto_abundance.pkl')\n",
    "tpm_lo=['pt212_lo_TPM','pt221_lo_TPM','pt226_lo_TPM','pt87_lo_TPM','pt214_lo_TPM']\n",
    "tpm_hi=['pt212_hi_TPM','pt221_hi_TPM','pt226_hi_TPM','pt87_hi_TPM','pt214_hi_TPM']\n",
    "tpm=np.hstack((tpm_hi,tpm_lo))"
   ]
  },
  {
   "cell_type": "code",
   "execution_count": 3,
   "id": "d571d911",
   "metadata": {},
   "outputs": [
    {
     "name": "stdout",
     "output_type": "stream",
     "text": [
      "Ttest_relResult(statistic=-7.51633149225298, pvalue=0.001677031392662264)\n"
     ]
    },
    {
     "data": {
      "image/png": "[encoded data removed]",
      "text/plain": [
       "<Figure size 180x288 with 1 Axes>"
      ]
     },
     "metadata": {
      "needs_background": "light"
     },
     "output_type": "display_data"
    }
   ],
   "source": [
    "x=df_abundance[df_abundance.columns[df_abundance.columns!='length']].mean(axis=1)\n",
    "gene_list=np.array(df_sleuth[df_sleuth.target_id.isin(np.array(x[(x>10) & (x<30)].index))].ext_gene)\n",
    "df=df_High.append(df_Low)\n",
    "df=df[df.Gene_Name.isin(gene_list)]\n",
    "df=df[(df.Aire_dep==True)]\n",
    "masked_df=1*(df[tpm]>0)\n",
    "i=0\n",
    "for feature in ['Annotations_short']:\n",
    "    for name in tpm:\n",
    "        if df[masked_df[name]==1].shape[0]>4:\n",
    "            df2=df[masked_df[name]==1]\n",
    "            total_genes=0\n",
    "            misinitiated=0\n",
    "            for gene in df2.Gene_Name.unique():\n",
    "                unique=df2[df2.Gene_Name==gene].Annotations_short.unique()\n",
    "                if 'promoter-TSS' in unique and len(unique)==1:\n",
    "                    gene=0\n",
    "                else:\n",
    "                    gene=1\n",
    "                total_genes=total_genes+1\n",
    "                misinitiated=misinitiated+gene\n",
    "            percentage=misinitiated/total_genes\n",
    "            x=pd.DataFrame(np.vstack((feature,percentage,name.split('_')[0],name.split('_')[1],name,df[masked_df[name]==1].shape[0])).T,columns=['Feature','Percentage','Patient','Hue','pt','N'])\n",
    "            if i==0:\n",
    "                y=x\n",
    "            else:\n",
    "                y=y.append(x)\n",
    "            i+=1\n",
    "y.Percentage=y.Percentage.astype(float)\n",
    "\n",
    "plt.figure(figsize=(2.5,4))\n",
    "feature='Annotations_short'\n",
    "for x in y.Patient.unique():\n",
    "    plt.plot([0.5,0.1],[y[(y.Feature==feature) & (y.Patient==x) & (y.Hue=='hi')].Percentage,y[(y.Feature==feature) & (y.Patient==x) & (y.Hue=='lo')].Percentage],color='lightgray',zorder=1)\n",
    "\n",
    "plt.scatter(0.5,y[(y.Feature==feature) & (y.Hue=='hi')].Percentage.mean(),lw=5,zorder=3)\n",
    "plt.plot([0.5,0.5],[y[(y.Feature==feature) & (y.Hue=='hi')].Percentage.mean()+y[(y.Feature==feature) & (y.Hue=='hi')].Percentage.std(),\n",
    "               y[(y.Feature==feature) & (y.Hue=='hi')].Percentage.mean()-y[(y.Feature==feature) & (y.Hue=='hi')].Percentage.std()],lw=3,zorder=2)\n",
    "\n",
    "plt.scatter(.1,y[(y.Feature==feature) & (y.Hue=='lo')].Percentage.mean(),lw=5,zorder=3,color=sns.color_palette('muted')[1])\n",
    "plt.plot([.1,.1],[y[(y.Feature==feature) & (y.Hue=='lo')].Percentage.mean()+y[(y.Feature==feature) & (y.Hue=='lo')].Percentage.std(),\n",
    "                y[(y.Feature==feature) & (y.Hue=='lo')].Percentage.mean()-y[(y.Feature==feature) & (y.Hue=='lo')].Percentage.std()],lw=3,zorder=2, color=sns.color_palette('muted')[1])\n",
    "\n",
    "print(stats.ttest_rel(y[(y.Feature==feature) & (y.Hue=='lo')].Percentage,y[(y.Feature==feature) & (y.Hue=='hi')].Percentage))\n",
    "\n",
    "plt.xlim([0,.6])\n",
    "plt.ylim([.2,.8])\n",
    "plt.xticks([])\n",
    "plt.yticks(fontsize=12.5)\n",
    "plt.xlabel('')\n",
    "#plt.xlabel(fontsize=0)\n",
    "plt.ylabel('Fraction genes with mis-initition',fontsize=15)\n",
    "plt.xlabel('AIRE induced',fontsize=15)\n",
    "sns.despine() \n",
    "plt.tight_layout()\n",
    "plt.savefig('/Users/jac/Documents/AIRE_fraction.png',dpi=500)\n",
    "plt.savefig('Supplemental_Panels/SFig6A.pdf',transparent=True,dpi=500)\n",
    "plt.show()\n",
    "plt.close()"
   ]
  },
  {
   "cell_type": "code",
   "execution_count": 4,
   "id": "68b942a8",
   "metadata": {},
   "outputs": [
    {
     "name": "stdout",
     "output_type": "stream",
     "text": [
      "Ttest_relResult(statistic=0.531954549869123, pvalue=0.6316318304810482)\n"
     ]
    },
    {
     "data": {
      "image/png": "[encoded data removed]",
      "text/plain": [
       "<Figure size 180x288 with 1 Axes>"
      ]
     },
     "metadata": {
      "needs_background": "light"
     },
     "output_type": "display_data"
    }
   ],
   "source": [
    "x=df_abundance[df_abundance.columns[df_abundance.columns!='length']].mean(axis=1)\n",
    "gene_list=np.array(df_sleuth[df_sleuth.target_id.isin(np.array(x[(x>10) & (x<30)].index))].ext_gene)\n",
    "df=df_High.append(df_Low)\n",
    "df=df[df.Gene_Name.isin(gene_list)]\n",
    "df=df[(df.Fezf2_dep==True)]\n",
    "masked_df=1*(df[tpm]>0)\n",
    "i=0\n",
    "for feature in ['Annotations_short']:\n",
    "    for name in tpm:\n",
    "        if df[masked_df[name]==1].shape[0]>4:\n",
    "            df2=df[masked_df[name]==1]\n",
    "            total_genes=0\n",
    "            misinitiated=0\n",
    "            for gene in df2.Gene_Name.unique():\n",
    "                unique=df2[df2.Gene_Name==gene].Annotations_short.unique()\n",
    "                if 'promoter-TSS' in unique and len(unique)==1:\n",
    "                    gene=0\n",
    "                else:\n",
    "                    gene=1\n",
    "                total_genes=total_genes+1\n",
    "                misinitiated=misinitiated+gene\n",
    "            percentage=misinitiated/total_genes\n",
    "            x=pd.DataFrame(np.vstack((feature,percentage,name.split('_')[0],name.split('_')[1],name,df[masked_df[name]==1].shape[0])).T,columns=['Feature','Percentage','Patient','Hue','pt','N'])\n",
    "            if i==0:\n",
    "                y=x\n",
    "            else:\n",
    "                y=y.append(x)\n",
    "            i+=1\n",
    "y.Percentage=y.Percentage.astype(float)\n",
    "\n",
    "plt.figure(figsize=(2.5,4))\n",
    "feature='Annotations_short'\n",
    "for x in y.Patient.unique():\n",
    "    plt.plot([0.5,0.1],[y[(y.Feature==feature) & (y.Patient==x) & (y.Hue=='hi')].Percentage,y[(y.Feature==feature) & (y.Patient==x) & (y.Hue=='lo')].Percentage],color='lightgray',zorder=1)\n",
    "\n",
    "plt.scatter(0.5,y[(y.Feature==feature) & (y.Hue=='hi')].Percentage.mean(),lw=5,zorder=3)\n",
    "plt.plot([0.5,0.5],[y[(y.Feature==feature) & (y.Hue=='hi')].Percentage.mean()+y[(y.Feature==feature) & (y.Hue=='hi')].Percentage.std(),\n",
    "               y[(y.Feature==feature) & (y.Hue=='hi')].Percentage.mean()-y[(y.Feature==feature) & (y.Hue=='hi')].Percentage.std()],lw=3,zorder=2)\n",
    "\n",
    "plt.scatter(.1,y[(y.Feature==feature) & (y.Hue=='lo')].Percentage.mean(),lw=5,zorder=3,color=sns.color_palette('muted')[1])\n",
    "plt.plot([.1,.1],[y[(y.Feature==feature) & (y.Hue=='lo')].Percentage.mean()+y[(y.Feature==feature) & (y.Hue=='lo')].Percentage.std(),\n",
    "                y[(y.Feature==feature) & (y.Hue=='lo')].Percentage.mean()-y[(y.Feature==feature) & (y.Hue=='lo')].Percentage.std()],lw=3,zorder=2, color=sns.color_palette('muted')[1])\n",
    " \n",
    "\n",
    "print(stats.ttest_rel(y[(y.Feature==feature) & (y.Hue=='lo')].Percentage,y[(y.Feature==feature) & (y.Hue=='hi')].Percentage))\n",
    "\n",
    "plt.xlim([0,.6])\n",
    "plt.ylim([.2,.8])\n",
    "plt.xticks([])\n",
    "plt.yticks(fontsize=12.5)\n",
    "plt.xlabel('')\n",
    "#plt.xlabel(fontsize=0)\n",
    "plt.ylabel('',fontsize=15)\n",
    "plt.xlabel('FEZF2 induced',fontsize=15)\n",
    "sns.despine() \n",
    "plt.tight_layout()\n",
    "plt.savefig('Supplemental_Panels/SFig6B.pdf',transparent=True,dpi=500)\n",
    "plt.show()\n",
    "plt.close()"
   ]
  },
  {
   "cell_type": "code",
   "execution_count": 5,
   "id": "494a67fb",
   "metadata": {},
   "outputs": [
    {
     "name": "stdout",
     "output_type": "stream",
     "text": [
      "Ttest_relResult(statistic=-3.013400861415648, pvalue=0.03941820584490139)\n"
     ]
    },
    {
     "data": {
      "image/png": "[encoded data removed]",
      "text/plain": [
       "<Figure size 180x288 with 1 Axes>"
      ]
     },
     "metadata": {
      "needs_background": "light"
     },
     "output_type": "display_data"
    }
   ],
   "source": [
    "x=df_abundance[df_abundance.columns[df_abundance.columns!='length']].mean(axis=1)\n",
    "gene_list=np.array(df_sleuth[df_sleuth.target_id.isin(np.array(x[(x>0) & (x<30)].index))].ext_gene)\n",
    "df=df_High.append(df_Low)\n",
    "df=df[df.Gene_Name.isin(gene_list)]\n",
    "df=df[(df.Other_TRA==True)]\n",
    "masked_df=1*(df[tpm]>0)\n",
    "i=0\n",
    "for feature in ['Annotations_short']:\n",
    "    for name in tpm:\n",
    "        if df[masked_df[name]==1].shape[0]>0:\n",
    "            df2=df[masked_df[name]==1]\n",
    "            total_genes=0\n",
    "            misinitiated=0\n",
    "            for gene in df2.Gene_Name.unique():\n",
    "                unique=df2[df2.Gene_Name==gene].Annotations_short.unique()\n",
    "                if 'promoter-TSS' in unique and len(unique)==1:\n",
    "                    gene=0\n",
    "                else:\n",
    "                    gene=1\n",
    "                total_genes=total_genes+1\n",
    "                misinitiated=misinitiated+gene\n",
    "            percentage=misinitiated/total_genes\n",
    "            x=pd.DataFrame(np.vstack((feature,percentage,name.split('_')[0],name.split('_')[1],name,df[masked_df[name]==1].shape[0])).T,columns=['Feature','Percentage','Patient','Hue','pt','N'])\n",
    "            if i==0:\n",
    "                y=x\n",
    "            else:\n",
    "                y=y.append(x)\n",
    "            i+=1\n",
    "y.Percentage=y.Percentage.astype(float)\n",
    "\n",
    "plt.figure(figsize=(2.5,4))\n",
    "feature='Annotations_short'\n",
    "for x in y.Patient.unique():\n",
    "    plt.plot([0.5,0.1],[y[(y.Feature==feature) & (y.Patient==x) & (y.Hue=='hi')].Percentage,y[(y.Feature==feature) & (y.Patient==x) & (y.Hue=='lo')].Percentage],color='lightgray',zorder=1)\n",
    "\n",
    "plt.scatter(0.5,y[(y.Feature==feature) & (y.Hue=='hi')].Percentage.mean(),lw=5,zorder=3)\n",
    "plt.plot([0.5,0.5],[y[(y.Feature==feature) & (y.Hue=='hi')].Percentage.mean()+y[(y.Feature==feature) & (y.Hue=='hi')].Percentage.std(),\n",
    "               y[(y.Feature==feature) & (y.Hue=='hi')].Percentage.mean()-y[(y.Feature==feature) & (y.Hue=='hi')].Percentage.std()],lw=3,zorder=2)\n",
    "\n",
    "plt.scatter(.1,y[(y.Feature==feature) & (y.Hue=='lo')].Percentage.mean(),lw=5,zorder=3,color=sns.color_palette('muted')[1])\n",
    "plt.plot([.1,.1],[y[(y.Feature==feature) & (y.Hue=='lo')].Percentage.mean()+y[(y.Feature==feature) & (y.Hue=='lo')].Percentage.std(),\n",
    "                y[(y.Feature==feature) & (y.Hue=='lo')].Percentage.mean()-y[(y.Feature==feature) & (y.Hue=='lo')].Percentage.std()],lw=3,zorder=2, color=sns.color_palette('muted')[1])\n",
    "\n",
    "print(stats.ttest_rel(y[(y.Feature==feature) & (y.Hue=='lo')].Percentage,y[(y.Feature==feature) & (y.Hue=='hi')].Percentage))\n",
    "\n",
    "plt.xlim([0,.6])\n",
    "plt.ylim([.2,.8])\n",
    "plt.xticks([])\n",
    "plt.yticks(fontsize=12.5)\n",
    "plt.xlabel('')\n",
    "#plt.xlabel(fontsize=0)\n",
    "plt.ylabel('',fontsize=15)\n",
    "plt.xlabel('Other TRA',fontsize=15)\n",
    "sns.despine() \n",
    "plt.tight_layout()\n",
    "plt.savefig('Supplemental_Panels/SFig6C.pdf',transparent=True,dpi=500)\n",
    "plt.show()\n",
    "plt.close()"
   ]
  },
  {
   "cell_type": "code",
   "execution_count": 6,
   "id": "ccf293a8",
   "metadata": {},
   "outputs": [
    {
     "name": "stdout",
     "output_type": "stream",
     "text": [
      "Ttest_relResult(statistic=-3.282960652082608, pvalue=0.030415964527421686)\n"
     ]
    },
    {
     "data": {
      "image/png": "[encoded data removed]",
      "text/plain": [
       "<Figure size 180x288 with 1 Axes>"
      ]
     },
     "metadata": {
      "needs_background": "light"
     },
     "output_type": "display_data"
    }
   ],
   "source": [
    "x=df_abundance[df_abundance.columns[df_abundance.columns!='length']].mean(axis=1)\n",
    "gene_list=np.array(df_sleuth[df_sleuth.target_id.isin(np.array(x[(x>10) & (x<30)].index))].ext_gene)\n",
    "df=df_High.append(df_Low)\n",
    "df=df[df.Gene_Name.isin(gene_list)]\n",
    "df=df[(df.Housekeeping==True)]\n",
    "masked_df=1*(df[tpm]>0)\n",
    "i=0\n",
    "for feature in ['Annotations_short']:\n",
    "    for name in tpm:\n",
    "        if df[masked_df[name]==1].shape[0]>4:\n",
    "            df2=df[masked_df[name]==1]\n",
    "            total_genes=0\n",
    "            misinitiated=0\n",
    "            for gene in df2.Gene_Name.unique():\n",
    "                unique=df2[df2.Gene_Name==gene].Annotations_short.unique()\n",
    "                if 'promoter-TSS' in unique and len(unique)==1:\n",
    "                    gene=0\n",
    "                else:\n",
    "                    gene=1\n",
    "                total_genes=total_genes+1\n",
    "                misinitiated=misinitiated+gene\n",
    "            percentage=misinitiated/total_genes\n",
    "            x=pd.DataFrame(np.vstack((feature,percentage,name.split('_')[0],name.split('_')[1],name,df[masked_df[name]==1].shape[0])).T,columns=['Feature','Percentage','Patient','Hue','pt','N'])\n",
    "            if i==0:\n",
    "                y=x\n",
    "            else:\n",
    "                y=y.append(x)\n",
    "            i+=1\n",
    "y.Percentage=y.Percentage.astype(float)\n",
    "\n",
    "plt.figure(figsize=(2.5,4))\n",
    "feature='Annotations_short'\n",
    "for x in y.Patient.unique():\n",
    "    plt.plot([0.5,0.1],[y[(y.Feature==feature) & (y.Patient==x) & (y.Hue=='hi')].Percentage,y[(y.Feature==feature) & (y.Patient==x) & (y.Hue=='lo')].Percentage],color='lightgray',zorder=1)\n",
    "\n",
    "plt.scatter(0.5,y[(y.Feature==feature) & (y.Hue=='hi')].Percentage.mean(),lw=5,zorder=3)\n",
    "plt.plot([0.5,0.5],[y[(y.Feature==feature) & (y.Hue=='hi')].Percentage.mean()+y[(y.Feature==feature) & (y.Hue=='hi')].Percentage.std(),\n",
    "               y[(y.Feature==feature) & (y.Hue=='hi')].Percentage.mean()-y[(y.Feature==feature) & (y.Hue=='hi')].Percentage.std()],lw=3,zorder=2)\n",
    "\n",
    "plt.scatter(.1,y[(y.Feature==feature) & (y.Hue=='lo')].Percentage.mean(),lw=5,zorder=3,color=sns.color_palette('muted')[1])\n",
    "plt.plot([.1,.1],[y[(y.Feature==feature) & (y.Hue=='lo')].Percentage.mean()+y[(y.Feature==feature) & (y.Hue=='lo')].Percentage.std(),\n",
    "                y[(y.Feature==feature) & (y.Hue=='lo')].Percentage.mean()-y[(y.Feature==feature) & (y.Hue=='lo')].Percentage.std()],lw=3,zorder=2, color=sns.color_palette('muted')[1])\n",
    " \n",
    "\n",
    "print(stats.ttest_rel(y[(y.Feature==feature) & (y.Hue=='lo')].Percentage,y[(y.Feature==feature) & (y.Hue=='hi')].Percentage))\n",
    "\n",
    "plt.xlim([0,.6])\n",
    "plt.ylim([.2,.8])\n",
    "plt.xticks([])\n",
    "plt.yticks(fontsize=12.5)\n",
    "plt.xlabel('')\n",
    "#plt.xlabel(fontsize=0)\n",
    "plt.ylabel('',fontsize=15)\n",
    "plt.xlabel('Housekeeping',fontsize=15)\n",
    "sns.despine() \n",
    "plt.tight_layout()\n",
    "plt.savefig('Supplemental_Panels/SFig6D.pdf',transparent=True,dpi=500)\n",
    "plt.show()\n",
    "plt.close()"
   ]
  },
  {
   "cell_type": "code",
   "execution_count": null,
   "id": "a31e7c0e",
   "metadata": {},
   "outputs": [],
   "source": []
  }
 ],
 "metadata": {
  "kernelspec": {
   "display_name": "Python 3 (ipykernel)",
   "language": "python",
   "name": "python3"
  },
  "language_info": {
   "codemirror_mode": {
    "name": "ipython",
    "version": 3
   },
   "file_extension": ".py",
   "mimetype": "text/x-python",
   "name": "python",
   "nbconvert_exporter": "python",
   "pygments_lexer": "ipython3",
   "version": "3.9.6"
  }
 },
 "nbformat": 4,
 "nbformat_minor": 5
}
