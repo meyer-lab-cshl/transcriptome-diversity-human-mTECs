{
 "cells": [
  {
   "cell_type": "code",
   "execution_count": 1,
   "id": "c9be42e3",
   "metadata": {},
   "outputs": [],
   "source": [
    "import pandas as pd\n",
    "import numpy as np\n",
    "from matplotlib import pyplot as plt\n",
    "import seaborn as sns\n",
    "import warnings\n",
    "from scipy import stats\n",
    "import statsmodels.api as sm\n",
    "from matplotlib_venn import venn3"
   ]
  },
  {
   "cell_type": "code",
   "execution_count": 2,
   "id": "a845b13b",
   "metadata": {},
   "outputs": [],
   "source": [
    "df_all=pd.read_pickle('common_data/fivepseq_abundance_tsr.pkl')\n",
    "df_High=df_all[(df_all.High>1) & (df_all.Low==0)]\n",
    "df_Low=df_all[(df_all.Low>1) & (df_all.High==0)]\n",
    "tpm_lo=['pt212_lo_TPM','pt221_lo_TPM','pt226_lo_TPM','pt87_lo_TPM','pt214_lo_TPM']\n",
    "tpm_hi=['pt212_hi_TPM','pt221_hi_TPM','pt226_hi_TPM','pt87_hi_TPM','pt214_hi_TPM']\n",
    "tpm=np.hstack((tpm_hi,tpm_lo))"
   ]
  },
  {
   "cell_type": "code",
   "execution_count": 3,
   "id": "a3ea2dc7",
   "metadata": {},
   "outputs": [
    {
     "ename": "NameError",
     "evalue": "name 'a' is not defined",
     "output_type": "error",
     "traceback": [
      "\u001b[0;31m---------------------------------------------------------------------------\u001b[0m",
      "\u001b[0;31mNameError\u001b[0m                                 Traceback (most recent call last)",
      "\u001b[0;32m/var/folders/ph/8nmzzw011n36rv50cj5dc7040000gn/T/ipykernel_73243/3593485747.py\u001b[0m in \u001b[0;36m<module>\u001b[0;34m\u001b[0m\n\u001b[0;32m----> 1\u001b[0;31m \u001b[0ma\u001b[0m\u001b[0;34m.\u001b[0m\u001b[0mcolumns\u001b[0m\u001b[0;34m=\u001b[0m\u001b[0;34m[\u001b[0m\u001b[0mx\u001b[0m\u001b[0;34m.\u001b[0m\u001b[0msplit\u001b[0m\u001b[0;34m(\u001b[0m\u001b[0;34m'_TPM'\u001b[0m\u001b[0;34m)\u001b[0m\u001b[0;34m[\u001b[0m\u001b[0;36m0\u001b[0m\u001b[0;34m]\u001b[0m \u001b[0;32mfor\u001b[0m \u001b[0mx\u001b[0m \u001b[0;32min\u001b[0m \u001b[0ma\u001b[0m\u001b[0;34m.\u001b[0m\u001b[0mcolumns\u001b[0m\u001b[0;34m]\u001b[0m\u001b[0;34m\u001b[0m\u001b[0;34m\u001b[0m\u001b[0m\n\u001b[0m\u001b[1;32m      2\u001b[0m \u001b[0ma\u001b[0m\u001b[0;34m.\u001b[0m\u001b[0mindex\u001b[0m\u001b[0;34m=\u001b[0m\u001b[0;34m[\u001b[0m\u001b[0mx\u001b[0m\u001b[0;34m.\u001b[0m\u001b[0msplit\u001b[0m\u001b[0;34m(\u001b[0m\u001b[0;34m'_TPM'\u001b[0m\u001b[0;34m)\u001b[0m\u001b[0;34m[\u001b[0m\u001b[0;36m0\u001b[0m\u001b[0;34m]\u001b[0m \u001b[0;32mfor\u001b[0m \u001b[0mx\u001b[0m \u001b[0;32min\u001b[0m \u001b[0ma\u001b[0m\u001b[0;34m.\u001b[0m\u001b[0mindex\u001b[0m\u001b[0;34m]\u001b[0m\u001b[0;34m\u001b[0m\u001b[0;34m\u001b[0m\u001b[0m\n",
      "\u001b[0;31mNameError\u001b[0m: name 'a' is not defined"
     ]
    }
   ],
   "source": [
    "a.columns=[x.split('_TPM')[0] for x in a.columns]\n",
    "a.index=[x.split('_TPM')[0] for x in a.index]"
   ]
  },
  {
   "cell_type": "code",
   "execution_count": null,
   "id": "2e6d2cbe",
   "metadata": {},
   "outputs": [],
   "source": [
    "sns.set(font_scale=1.7)\n",
    "a=pd.DataFrame(np.zeros((len(tpm),len(tpm))),columns=tpm,index=tpm)\n",
    "for x in tpm:\n",
    "    for y in tpm:\n",
    "        b=df_all[(df_all[x]>0) | (df_all[y]>0)]\n",
    "        a.at[x,y]=stats.linregress(b[x],b[y])[2]\n",
    "lut = dict(zip(tpm, np.vstack(([sns.color_palette()[0]]*5,[sns.color_palette()[1]]*5))))\n",
    "row_colors = a.columns.map(lut)\n",
    "lut2 = dict(zip(tpm, sns.color_palette('mako',5)*2))\n",
    "row_colors2 = a.columns.map(lut2)\n",
    "a.columns=[x.split('_')[0]+x.split('_')[1] for x in a.columns]\n",
    "a.index=[x.split('_')[0]+x.split('_')[1] for x in a.index]\n",
    "\n",
    "sns.clustermap(a,method='complete',row_colors=[row_colors2,row_colors],col_colors=[row_colors2,row_colors])\n",
    "\n",
    "plt.savefig('Supplemental_Panels/SFig3A.pdf', transparent=True,dpi=500)"
   ]
  },
  {
   "cell_type": "code",
   "execution_count": null,
   "id": "77a02665",
   "metadata": {},
   "outputs": [],
   "source": [
    "same_subject=[]\n",
    "same_condition=[]\n",
    "different=[]\n",
    "low=[]\n",
    "high=[]\n",
    "for i,x in enumerate(tpm):\n",
    "    for j,y in enumerate(tpm):\n",
    "        if j>i:\n",
    "            b=df_all[(df_all[x]>0) | (df_all[y]>0)]\n",
    "            overlap=stats.linregress(b[x],b[y])[2]  \n",
    "            if x.split('_')[0]==y.split('_')[0]:\n",
    "                same_subject.append(overlap)\n",
    "            elif x.split('_')[1]==y.split('_')[1]:\n",
    "                same_condition.append(overlap)\n",
    "                if 'lo' in x.split('_')[1]:\n",
    "                    low.append(overlap)\n",
    "                else:\n",
    "                    high.append(overlap)\n",
    "            else:\n",
    "                different.append(overlap)\n",
    "x1=np.vstack((low,['Low_Low']*len(low))).T\n",
    "x2=np.vstack((high,['High_High']*len(high))).T\n",
    "x3=np.vstack((same_subject,['Same_Subject_High_Low']*len(same_subject))).T\n",
    "x4=np.vstack((different,['Different_Subject_High_Low']*len(different))).T\n",
    "x=np.vstack((x1,x2,x3,x4))\n",
    "x=pd.DataFrame(x,columns=['Overlap','Category'])\n",
    "x.Overlap=x.Overlap.astype(float)\n",
    "plt.figure(figsize=(5,5))\n",
    "sns.boxplot(x='Category',y='Overlap',data=x,order=['Low_Low','High_High','Same_Subject_High_Low','Different_Subject_High_Low'],palette='Blues_r')\n",
    "plt.xticks(np.arange(4),['Low-Low','High-High','Same Subject','Different Subject'],rotation=45,fontsize=12)\n",
    "plt.yticks(fontsize=10)\n",
    "plt.ylim([0.88,1])\n",
    "plt.xlabel('')\n",
    "plt.ylabel('Pairwise R$^{2}$',fontsize=15)\n",
    "sns.despine()\n",
    "plt.tight_layout()\n",
    "plt.savefig('Supplemental_Panels/SFig3B.pdf', transparent=True,dpi=500)\n",
    "plt.show()\n",
    "plt.close()"
   ]
  },
  {
   "cell_type": "code",
   "execution_count": null,
   "id": "6586cf76",
   "metadata": {},
   "outputs": [],
   "source": []
  }
 ],
 "metadata": {
  "kernelspec": {
   "display_name": "Python 3 (ipykernel)",
   "language": "python",
   "name": "python3"
  },
  "language_info": {
   "codemirror_mode": {
    "name": "ipython",
    "version": 3
   },
   "file_extension": ".py",
   "mimetype": "text/x-python",
   "name": "python",
   "nbconvert_exporter": "python",
   "pygments_lexer": "ipython3",
   "version": "3.9.6"
  }
 },
 "nbformat": 4,
 "nbformat_minor": 5
}
